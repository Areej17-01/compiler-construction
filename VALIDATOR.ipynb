{
 "cells": [
  {
   "cell_type": "code",
   "execution_count": 6,
   "id": "d85b55ac",
   "metadata": {},
   "outputs": [],
   "source": [
    "import re"
   ]
  },
  {
   "cell_type": "markdown",
   "id": "bc676052",
   "metadata": {},
   "source": [
    "#### IS A STRING"
   ]
  },
  {
   "cell_type": "code",
   "execution_count": 7,
   "id": "7cb4c5a1",
   "metadata": {},
   "outputs": [],
   "source": [
    "def is_string(i):\n",
    "    pattern=r\"[']+(.*)*[']+|[\\\"]+(.*)[\\\"]+\"\n",
    "    return(re.search(pattern,i) != None)"
   ]
  },
  {
   "cell_type": "code",
   "execution_count": 12,
   "id": "f84ade63",
   "metadata": {},
   "outputs": [
    {
     "data": {
      "text/plain": [
       "True"
      ]
     },
     "execution_count": 12,
     "metadata": {},
     "output_type": "execute_result"
    }
   ],
   "source": [
    "is_string(\"'f'\")"
   ]
  },
  {
   "cell_type": "markdown",
   "id": "22e1017f",
   "metadata": {},
   "source": [
    "#### IS A FLOAT"
   ]
  },
  {
   "cell_type": "code",
   "execution_count": 17,
   "id": "b6be4e76",
   "metadata": {},
   "outputs": [],
   "source": [
    "def is_float(i):\n",
    "    pattern=r\"\\d*[.]\\d+|\\d+[.]\"\n",
    "    return(re.search(pattern,i) != None)"
   ]
  },
  {
   "cell_type": "code",
   "execution_count": 31,
   "id": "13fc750a",
   "metadata": {},
   "outputs": [
    {
     "data": {
      "text/plain": [
       "True"
      ]
     },
     "execution_count": 31,
     "metadata": {},
     "output_type": "execute_result"
    }
   ],
   "source": [
    "is_float(\"4.\")"
   ]
  },
  {
   "cell_type": "markdown",
   "id": "7be67bb6",
   "metadata": {},
   "source": [
    "#### IS AN INTEGER"
   ]
  },
  {
   "cell_type": "code",
   "execution_count": 135,
   "id": "9b4455ce",
   "metadata": {},
   "outputs": [],
   "source": [
    "def is_int(i):\n",
    "    pattern=r\"^[\\d]+$\"\n",
    "    return(re.search(pattern,i) != None)"
   ]
  },
  {
   "cell_type": "code",
   "execution_count": 138,
   "id": "ce9d547c",
   "metadata": {},
   "outputs": [
    {
     "data": {
      "text/plain": [
       "True"
      ]
     },
     "execution_count": 138,
     "metadata": {},
     "output_type": "execute_result"
    }
   ],
   "source": [
    "is_int(\"2587654\")"
   ]
  },
  {
   "cell_type": "markdown",
   "id": "b0672d57",
   "metadata": {},
   "source": [
    "#### Is a keyword"
   ]
  },
  {
   "cell_type": "code",
   "execution_count": 144,
   "id": "c82c19ca",
   "metadata": {},
   "outputs": [],
   "source": [
    "def is_kw(i):\n",
    "    pattern=r\"^eval|or if|Until|for|skip|resume|exit|ignore|proceed|True|False|Void|Super|Self|Class|Expands|def|ret|mono|multi|Import|From|as|OR|AND|NOT|Feed|show|int|float|str|eval|if|else|else or$\"\n",
    "\n",
    "    return(re.search(pattern,i) != None)"
   ]
  },
  {
   "cell_type": "code",
   "execution_count": 145,
   "id": "292d7943",
   "metadata": {},
   "outputs": [
    {
     "data": {
      "text/plain": [
       "True"
      ]
     },
     "execution_count": 145,
     "metadata": {},
     "output_type": "execute_result"
    }
   ],
   "source": [
    "is_kw(\"float\")"
   ]
  },
  {
   "cell_type": "markdown",
   "id": "981144a7",
   "metadata": {},
   "source": [
    "#### Is an identifier"
   ]
  },
  {
   "cell_type": "code",
   "execution_count": 164,
   "id": "6699a782",
   "metadata": {},
   "outputs": [],
   "source": [
    "def is_identifier(i):\n",
    "    pattern=r\"^([a-zA-Z_$][a-zA-Z\\\\d_$]*)$\"\n",
    "    return(re.search(pattern,i) != None)"
   ]
  },
  {
   "cell_type": "code",
   "execution_count": 18,
   "id": "90e464fc",
   "metadata": {},
   "outputs": [
    {
     "data": {
      "text/plain": [
       "True"
      ]
     },
     "execution_count": 18,
     "metadata": {},
     "output_type": "execute_result"
    }
   ],
   "source": [
    "is_identifier(\"ar55eej\")"
   ]
  },
  {
   "cell_type": "markdown",
   "id": "8e8ebcbe",
   "metadata": {},
   "source": [
    "second"
   ]
  },
  {
   "cell_type": "code",
   "execution_count": 17,
   "id": "555bbd81",
   "metadata": {},
   "outputs": [],
   "source": [
    "def is_identifier(i):\n",
    "    pattern=r\"^[Aa-zZ]+\\w*$\"\n",
    "    return(re.search(pattern,i) != None)"
   ]
  },
  {
   "cell_type": "code",
   "execution_count": 16,
   "id": "6dfcb1ad",
   "metadata": {},
   "outputs": [
    {
     "data": {
      "text/plain": [
       "False"
      ]
     },
     "execution_count": 16,
     "metadata": {},
     "output_type": "execute_result"
    }
   ],
   "source": [
    "is_identifier(\"eej4\")"
   ]
  },
  {
   "cell_type": "code",
   "execution_count": null,
   "id": "2f39b093",
   "metadata": {},
   "outputs": [],
   "source": []
  },
  {
   "cell_type": "code",
   "execution_count": null,
   "id": "3c9b6453",
   "metadata": {},
   "outputs": [],
   "source": []
  },
  {
   "cell_type": "code",
   "execution_count": null,
   "id": "4ef5de3c",
   "metadata": {},
   "outputs": [],
   "source": []
  },
  {
   "cell_type": "code",
   "execution_count": null,
   "id": "694c2861",
   "metadata": {},
   "outputs": [],
   "source": []
  },
  {
   "cell_type": "code",
   "execution_count": null,
   "id": "a95ca995",
   "metadata": {},
   "outputs": [],
   "source": []
  },
  {
   "cell_type": "code",
   "execution_count": null,
   "id": "37bb7e64",
   "metadata": {},
   "outputs": [],
   "source": []
  },
  {
   "cell_type": "code",
   "execution_count": null,
   "id": "2a6a4e79",
   "metadata": {},
   "outputs": [],
   "source": [
    "regex = \"^([a-zA-Z_$][a-zA-Z\\\\d_$]*)$\";"
   ]
  },
  {
   "cell_type": "code",
   "execution_count": 161,
   "id": "2de90e45",
   "metadata": {},
   "outputs": [
    {
     "data": {
      "text/plain": [
       "<re.Match object; span=(0, 6), match='forfor'>"
      ]
     },
     "execution_count": 161,
     "metadata": {},
     "output_type": "execute_result"
    }
   ],
   "source": [
    "re.search(\"\\w+(?!for)\",\"forfor\")"
   ]
  },
  {
   "cell_type": "code",
   "execution_count": 171,
   "id": "bb175045",
   "metadata": {},
   "outputs": [],
   "source": [
    "ar7=0"
   ]
  },
  {
   "cell_type": "code",
   "execution_count": 172,
   "id": "157f34ba",
   "metadata": {},
   "outputs": [
    {
     "data": {
      "text/plain": [
       "0"
      ]
     },
     "execution_count": 172,
     "metadata": {},
     "output_type": "execute_result"
    }
   ],
   "source": [
    "ar7"
   ]
  },
  {
   "cell_type": "code",
   "execution_count": null,
   "id": "b066a19d",
   "metadata": {},
   "outputs": [],
   "source": []
  }
 ],
 "metadata": {
  "kernelspec": {
   "display_name": "Python 3 (ipykernel)",
   "language": "python",
   "name": "python3"
  },
  "language_info": {
   "codemirror_mode": {
    "name": "ipython",
    "version": 3
   },
   "file_extension": ".py",
   "mimetype": "text/x-python",
   "name": "python",
   "nbconvert_exporter": "python",
   "pygments_lexer": "ipython3",
   "version": "3.9.12"
  }
 },
 "nbformat": 4,
 "nbformat_minor": 5
}
