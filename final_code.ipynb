{
 "cells": [
  {
   "cell_type": "code",
   "execution_count": 7,
   "id": "a75c4b56",
   "metadata": {},
   "outputs": [
    {
     "name": "stdout",
     "output_type": "stream",
     "text": [
      "print(\"anything\")\n"
     ]
    }
   ],
   "source": [
    "text=open(\"our_code.txt\",\"r\")\n",
    "#text=open(\"our_code.txt\",\"r\")\n",
    "text_1=text.read()\n",
    "print(text_1)\n",
    "# text_1+=\" \"\n",
    "# print(text_1)"
   ]
  },
  {
   "cell_type": "code",
   "execution_count": 14,
   "id": "2246afea",
   "metadata": {},
   "outputs": [
    {
     "name": "stdout",
     "output_type": "stream",
     "text": [
      "anything\n"
     ]
    }
   ],
   "source": [
    "text_1+=\" \"\n",
    "operators=[\"+\",\"-\",\"*\",\"=\",\"++\",\"--\",\"+=\",\"-=\",\"==\",\"/\",\"%\"]\n",
    "punctuator=[\",\",\";\",\":\",\"[\",\"]\",\"(\",\")\",\"{\",\"}\",'\"','\"',\"'\",\"'\"]\n",
    "formats=[\"\\n\",\"\\t\"]\n",
    "comments=[\"?*\",\"*?\",\"?\"]\n",
    "words=[]\n",
    "word=\"\"\n",
    "string_status=\"\"\n",
    "index=[]\n",
    "comment_status=\"\"\n",
    "single=\"\"\n",
    "status=\"\"\n",
    "doub_status=\"\"\n",
    "for j,i  in enumerate(text_1):\n",
    "#string checking\n",
    "    if i == \"'\" or i == '\"' and (status!=\"#\" and doub_status !=\"?\"):\n",
    "        string_status+=i\n",
    "    if len(string_status)==2:\n",
    "        # print(word)\n",
    "        idk=word\n",
    "        if \"\\\\n\" in word:\n",
    "            newline=word.split(\"\\\\n\")\n",
    "            for new in newline:\n",
    "                words.append(new)\n",
    "            word=\"\"\n",
    "            string_status=\"\"\n",
    "        else:\n",
    "            words.append(word)\n",
    "            word=\"\" \n",
    "            string_status=\"\"\n",
    "    elif len(string_status)==1:\n",
    "        if i == \"'\" or i == '\"':\n",
    "            pass\n",
    "        else:\n",
    "            word+=(i)\n",
    "\n",
    "#comments:double\n",
    "    elif i == \"?\" and (status!=\"#\"):\n",
    "        doub_status=i\n",
    "        comment_status+=i\n",
    "        if len(comment_status)==1:\n",
    "            word+=i\n",
    "        \n",
    "    elif len(comment_status)==1:\n",
    "        word+=(i)\n",
    "    elif len(comment_status)==2:\n",
    "        word+=(text_1[j-1])\n",
    "        #words.append(word)\n",
    "        \n",
    "        words.append(i)\n",
    "        word=\"\" \n",
    "        comment_status=\"\"\n",
    "        doub_status=\"\"\n",
    "#comment:single\n",
    "    elif  i == \"#\":\n",
    "        #print(word)\n",
    "        word+=i\n",
    "        single+=i\n",
    "        status=i\n",
    "    elif (status==\"#\" and i== \"\\n\") or (status==\"#\" and j==len(text_1)-2):\n",
    "        \n",
    "        #print(word)\n",
    "        word+=i\n",
    "        #words.append(word)\n",
    "        single=\"\"\n",
    "        word=\"\"\n",
    "        status=\"\"\n",
    "        \n",
    "    elif len(single)>=1:\n",
    "       \n",
    "        word+=(i)\n",
    "        #print(word)\n",
    "   \n",
    "        \n",
    "    elif i in punctuator or i in operators:\n",
    "        #print(i)\n",
    "        if (i+text_1[j+1]) in operators:\n",
    "            if j in index:\n",
    "                pass\n",
    "            else:\n",
    "                operate=str(i+text_1[j+1])\n",
    "                words.append(word)\n",
    "                word=\"\"\n",
    "                words.append(operate)\n",
    "            index.append(j)\n",
    "            index.append(j+1)\n",
    "        elif str(text_1[j-1]+i) in operators:\n",
    "           # print(str(text_1[j-1]+i))\n",
    "            if len(operate)==2:\n",
    "                operate=\"\"\n",
    "            else:\n",
    "                words.append(word)\n",
    "                word=\"\"\n",
    "                words.append(i)\n",
    "        else:\n",
    "            if \".\" in word:\n",
    "                try:\n",
    "                    a=float(word)\n",
    "                    words.append(str(word))\n",
    "                    word=\"\"\n",
    "                except:\n",
    "                    if str(sys.exc_info()[0])== \"<class 'ValueError'>\":\n",
    "                        arr=word.split(\".\")\n",
    "                        if type(arr[0]) == int:\n",
    "                            words.append(word)\n",
    "                            word=\"\"\n",
    "                        else:\n",
    "                            for ind,k in enumerate(arr):\n",
    "                                words.append(k)\n",
    "                                if ind != len(arr)-1:\n",
    "                                    words.append(\".\")\n",
    "                            word=\"\"\n",
    "                    words.append(i)\n",
    "\n",
    "            else:\n",
    "                words.append(word)\n",
    "                words.append(i)\n",
    "                word=\"\"\n",
    "                lexen=i\n",
    "    elif i == \" \" or i == \"\\n\" or i==\"\\t\":\n",
    "        if \".\" in word:\n",
    "            try:\n",
    "                a=float(word)\n",
    "                words.append(str(word))\n",
    "                word=\"\"\n",
    "            except:\n",
    "                if str(sys.exc_info()[0])== \"<class 'ValueError'>\":\n",
    "                    arr=word.split(\".\")\n",
    "                    try:\n",
    "                        a=int(word[0])\n",
    "                        words.append((word))\n",
    "                        word=\"\"\n",
    "                    except:\n",
    "                        for ind,k in enumerate(arr):\n",
    "                            words.append(k)\n",
    "                            if ind != len(arr)-1:\n",
    "                                words.append(\".\")\n",
    "                        word=\"\"\n",
    "                words.append(i)\n",
    "                \n",
    "        else:\n",
    "            words.append(word)\n",
    "            words.append(i)\n",
    "            word=\"\"\n",
    "            lexen=i\n",
    "    elif  j==len(text_1)-1:\n",
    "        print(\"here\")\n",
    "        word+=i\n",
    "        words.append(word)\n",
    "    else:\n",
    "       \n",
    "        word+=(i)"
   ]
  },
  {
   "cell_type": "code",
   "execution_count": 15,
   "id": "b434ace0",
   "metadata": {},
   "outputs": [
    {
     "name": "stdout",
     "output_type": "stream",
     "text": [
      "print\n",
      "(\n",
      "anything\n",
      ")\n"
     ]
    }
   ],
   "source": [
    "for i in words:\n",
    "    if i != \"\" and i!=\" \" and i != \"\\n\":\n",
    "        print(i)"
   ]
  },
  {
   "cell_type": "code",
   "execution_count": 13,
   "id": "8e0a657b",
   "metadata": {},
   "outputs": [
    {
     "data": {
      "text/plain": [
       "['print', '(', 'anything', '', ')', '', ' ', '', ' ']"
      ]
     },
     "execution_count": 13,
     "metadata": {},
     "output_type": "execute_result"
    }
   ],
   "source": [
    "words"
   ]
  },
  {
   "cell_type": "code",
   "execution_count": null,
   "id": "57e76abb",
   "metadata": {},
   "outputs": [],
   "source": []
  }
 ],
 "metadata": {
  "kernelspec": {
   "display_name": "Python 3 (ipykernel)",
   "language": "python",
   "name": "python3"
  },
  "language_info": {
   "codemirror_mode": {
    "name": "ipython",
    "version": 3
   },
   "file_extension": ".py",
   "mimetype": "text/x-python",
   "name": "python",
   "nbconvert_exporter": "python",
   "pygments_lexer": "ipython3",
   "version": "3.9.7"
  }
 },
 "nbformat": 4,
 "nbformat_minor": 5
}
